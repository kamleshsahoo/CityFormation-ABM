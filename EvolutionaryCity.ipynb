{
 "cells": [
  {
   "cell_type": "markdown",
   "metadata": {},
   "source": [
    "# EVOLUTIONARY CITY MODEL\n",
    "## An Agent Based Model\n",
    "*Put this notebook in the same folder where the virtualenv is created to avoid dependency conflicts.*"
   ]
  },
  {
   "cell_type": "markdown",
   "metadata": {},
   "source": [
    "### Model Description \n",
    "\n",
    "* The model uses a payoff function of the form $$Ern + \\frac{k}{r} - cn^2$$, \n",
    "    - $E$ is Shannon Entropy within a cell. We use the following discretized form with two types of agents ($L$ or $H$) depending on abilities. $$E = -\\frac{t}{n}\\log_e\\left(\\frac{t}{n}\\right) - \\frac{n-t}{n}\\log_e\\left(\\frac{n-t}{n}\\right)$$ \n",
    "    - $n$ is the number of agents in the cell\n",
    "    - $t$ is the type count of agents in a cell depending on ability. Each agent is labelled type $H$(high skilled) for               $r\\geqslant0.6$ or $L$ (low skilled) otherwise. \n",
    "    - $r$ is the ability of an agent, drawn from a uniform distribution (0,1). \n",
    "    - $k$ and $c$ are user settable coefficients and model parameters. \n",
    "    \n",
    "    \n",
    "* Agents use bounded rationality. Each agent is initialized with attribute **radius** which defines the maximum number of cells it considers while making a move. This is drawn from a beta distribution. \n",
    "\n",
    "\n",
    "* The model takes the total number of agents $N$, the positive coefficient $k$ and negative coefficient $c$ as inputs. The model also takes agent activation schedule as input to test two schedules. Pass **activation = 0** for Random Activation and **activation = 1** for Simultaneous Activation.\n",
    "\n",
    "\n",
    "* The implementation defines the agents under class **habitant** and city model under class **city_model**. \n",
    "\n",
    "* **shannon_E** is a global function that returns the entropy of a cell. \n",
    "\n",
    "\n",
    "* There are 4 model level data collectors-\n",
    "  - **city_sizes** -  returns an array corresponding to model grid containing the number of agents in each cell.   \n",
    "  - **city_ranks** - returns a list of tuples. Each tuple contains the cell coordinates and its rank.\n",
    "  - **model_entropy** - returns a list of lists. Each sublist contains the cell coordinates and its entropy.\n",
    "  - **model_utility** - returns a utility of the entire model which is simply sum of individual agent utilities.  \n",
    "\n",
    "\n",
    "* At each model step, the agents calculate the payoff before moving into one of their neighboring cells. If the payoff is higher than the agent's current cell, it makes a move otherwise stays put in his current cell.\n",
    "\n",
    "\n",
    "* **BatchRunner** is used to run the model instances multiple times.\n",
    "\n",
    "\n",
    "* Some more work is needed to integrate the server properly for the model. To change the code and launch the server again specify a different server.port or quit the notebook and launch again from command prompt. This might be a problem specific to my environment setup but might help somebody. "
   ]
  },
  {
   "cell_type": "code",
   "execution_count": 2,
   "metadata": {},
   "outputs": [],
   "source": [
    "from mesa import Agent, Model\n",
    "from mesa.time import RandomActivation, SimultaneousActivation\n",
    "from mesa.space import MultiGrid\n",
    "from mesa.datacollection import DataCollector\n",
    "import pandas as pd\n",
    "import random\n",
    "import numpy as np\n",
    "import math\n",
    "import time\n",
    "import collections\n",
    "import operator\n",
    "from IPython.display import clear_output\n",
    "from mesa.visualization.ModularVisualization import ModularServer\n",
    "from mesa.visualization.modules import CanvasGrid, ChartModule, TextElement\n",
    "from mesa.visualization.UserParam import UserSettableParameter\n",
    "from mesa.batchrunner import BatchRunner\n",
    "import matplotlib.pyplot as plt\n",
    "from matplotlib import animation\n",
    "import matplotlib.ticker as ticker\n",
    "import scipy.stats as st\n",
    "from scipy.stats import norm"
   ]
  },
  {
   "cell_type": "code",
   "execution_count": 32,
   "metadata": {},
   "outputs": [
    {
     "data": {
      "text/plain": [
       "('ghk', 2)"
      ]
     },
     "execution_count": 32,
     "metadata": {},
     "output_type": "execute_result"
    }
   ],
   "source": [
    "cell_dict = {\"ghk\":2,\"lop\":1, \"jki\": 2}\n",
    "max(cell_dict.items(), key=lambda x: x[1])"
   ]
  },
  {
   "cell_type": "code",
   "execution_count": null,
   "metadata": {},
   "outputs": [],
   "source": [
    "'''Function to calculate Entropies'''\n",
    "def shanon_E(type_count, num_agents):\n",
    "    t = type_count \n",
    "    n = num_agents\n",
    "    if t == n or t == 0 or n == 0:\n",
    "        return 0  # O entropy if all agents are of same type or no agents in a cell\n",
    "    else:\n",
    "        return -(t/n) * math.log(t/n) -((n - t)/n) * math.log((n - t)/n)\n",
    "\n",
    "\n",
    "'''Model Reporters'''\n",
    "def city_sizes(model):\n",
    "    agent_counts = np.zeros((model.grid.width, model.grid.height))\n",
    "    for cell in model.grid.coord_iter():\n",
    "        cell_content, x, y = cell\n",
    "        agent_count = len(cell_content)\n",
    "        agent_counts[x][y] = agent_count\n",
    "    return agent_counts\n",
    "\n",
    "def city_ranks(model):   \n",
    "    ranklist = []\n",
    "    for cell in model.grid.coord_iter():\n",
    "        cell_content, x, y = cell\n",
    "        ranklist.append(((x,y),len(cell_content)))\n",
    "        \n",
    "    ranklist.sort(key=operator.itemgetter(1), reverse=True)\n",
    "    return ranklist\n",
    "        \n",
    "def model_utility(model):\n",
    "    agent_utility = [agent.utility(agent.pos) for agent in model.schedule.agents]\n",
    "    return sum(agent_utility)\n",
    "\n",
    "\n",
    "def model_entropy(model):\n",
    "    entropy_list = []\n",
    "    for cell in model.grid.coord_iter():\n",
    "        type_count = 0\n",
    "        cell_agents, x, y = cell\n",
    "        num_agents = len(cell_agents)\n",
    "\n",
    "        for agent in cell_agents:\n",
    "            if agent.type == 'L':\n",
    "                type_count += 1\n",
    "\n",
    "        entropy_list.append([(x,y), shanon_E(type_count, num_agents)])\n",
    "\n",
    "    return entropy_list\n",
    "    \n",
    "'''Agent Class'''\n",
    "class habitant(Agent):\n",
    "    \n",
    "    def __init__(self, unique_id, model, agent_ability):\n",
    "        super().__init__(unique_id, model)\n",
    "        self.r = agent_ability\n",
    "        self.radius = math.ceil(np.random.beta(1,1) * (self.model.width/2))\n",
    "        self.type = None\n",
    "        if 0 <= 10*self.r < 6:\n",
    "            self.type = 'L'\n",
    "        elif 6 <= 10*self.r <=10:\n",
    "            self.type = 'H' \n",
    "            \n",
    "        self.steps = 0\n",
    "        self.no_moves = 0\n",
    "        \n",
    "    def utility(self, coord):\n",
    "                \n",
    "        tot_agents = self.model.grid.get_cell_list_contents(coord)\n",
    "        n = len(tot_agents)\n",
    "        agent_types = [agent.type for agent in tot_agents]\n",
    "        S = 0\n",
    "        if self.type == 'L':\n",
    "            S = agent_types.count('L')\n",
    "        else: \n",
    "            S = agent_types.count('H')\n",
    "                \n",
    "        # check utility for current cell or neighbouring cell        \n",
    "        if coord != self.pos:\n",
    "            # +1 term if the agent considers neighbouring cell\n",
    "            return (shanon_E(S+1,n+1) * self.r * (n + 1)) + (self.model.k / self.r) - (self.model.c * (n + 1)**2)  \n",
    "        else:\n",
    "            # utility stays the same if agent stays put in current cell\n",
    "\n",
    "            return (shanon_E(S,n) * self.r * n) + (self.model.k / self.r) - (self.model.c * n**2)    \n",
    "        \n",
    "   \n",
    "    \n",
    "    def move(self):\n",
    "        \n",
    "        neighbor_cell_pos = self.model.grid.get_neighborhood(self.pos, moore=True, include_center=False, radius=self.radius)\n",
    "        cell_dict = {}     # define a cell dictionary = {keys = (coordinates): values = utiltity}\n",
    "        max_pos = None\n",
    "        \n",
    "        for n in neighbor_cell_pos:     \n",
    "            cell_dict[n] = self.utility(n)\n",
    "            \n",
    "            MaxValue = max(cell_dict.items(), key=lambda x: x[1])    \n",
    "            # get the coordinates of maximum utility \n",
    "            listcoords = []\n",
    "            # Iterate over all the items in dictionary to find keys with max value\n",
    "            for coord, util in cell_dict.items():\n",
    "                if util == MaxValue[1]:\n",
    "                    listcoords.append(coord)\n",
    "                    \n",
    "            max_pos = random.choice(listcoords)  # make a random choice if multiple cells have same utility\n",
    "            # move only when moving gives a utility benefit\n",
    "            if self.utility(max_pos) > self.utility(self.pos):\n",
    "                self.model.grid.move_agent(self, max_pos)\n",
    "                \n",
    "            else: self.no_moves += 1\n",
    "                          \n",
    "    def step(self):\n",
    "        # for RandomActivation\n",
    "        if self.model.act == 0:\n",
    "            self.move()\n",
    "        elif self.model.act == 1:\n",
    "            self.steps += 1\n",
    "    \n",
    "    # for SimultaneousActivation\n",
    "    def advance(self):    \n",
    "        self.move()\n",
    "        \n",
    "'''Model Class'''\n",
    "class city_model(Model):\n",
    "    \"\"\"Note the default model parameters\"\"\"\n",
    "    def __init__(self, height = 20, width = 20, N = 1000, neg_coff = 0.1, pos_coff = 1, activation = 0):\n",
    "        assert activation in [0,1], 'Activation should be \"0 or 1\". O for Random , 1 for Simultaneous'\n",
    "        self.height = height\n",
    "        self.width = width\n",
    "        self.num_agents = N\n",
    "        self.c = neg_coff\n",
    "        self.k = pos_coff\n",
    "        self.act = activation\n",
    "        \n",
    "        if self.act == 0:\n",
    "            self.schedule = RandomActivation(self)\n",
    "        elif self.act == 1:\n",
    "            self.schedule = SimultaneousActivation(self) \n",
    "        \n",
    "        self.grid = MultiGrid(width, height, True)\n",
    "        self.running = True\n",
    "        #Create agents with some ability\n",
    "        for i in range(self.num_agents):\n",
    "            agent_ability = np.random.uniform()\n",
    "            agent = habitant(i, self, agent_ability)\n",
    "            self.schedule.add(agent)\n",
    "    \n",
    "            # Add the agent to random grid cell\n",
    "            x = self.random.randrange(self.grid.width)\n",
    "            y = self.random.randrange(self.grid.height)\n",
    "            self.grid.place_agent(agent, (x,y))\n",
    "            \n",
    "        self.datacollector = DataCollector(model_reporters = {\"City_sizes\": city_sizes, \n",
    "                                                              \"Entropy\": model_entropy,\n",
    "                                                             \"Ranks\": city_ranks,\n",
    "                                                             \"Utility\": model_utility}) \n",
    "      \n",
    "    def step(self):\n",
    "        \"\"\"Advance the model by one step\"\"\"\n",
    "        self.datacollector.collect(self) \n",
    "        self.schedule.step()"
   ]
  },
  {
   "cell_type": "markdown",
   "metadata": {},
   "source": [
    "### Now, run the model and collect data"
   ]
  },
  {
   "cell_type": "code",
   "execution_count": 39,
   "metadata": {},
   "outputs": [],
   "source": [
    "model = city_model() # default params used\n",
    "\n",
    "for i in range(50): #run model for 50 steps\n",
    "    model.step()\n",
    "    \n",
    "city_evolution = model.datacollector.get_model_vars_dataframe()"
   ]
  },
  {
   "cell_type": "markdown",
   "metadata": {},
   "source": [
    "### Visualize city sizes at each step"
   ]
  },
  {
   "cell_type": "code",
   "execution_count": 40,
   "metadata": {},
   "outputs": [
    {
     "data": {
      "image/png": "[encoded data removed]",
      "text/plain": [
       "<Figure size 900x600 with 2 Axes>"
      ]
     },
     "metadata": {
      "needs_background": "light"
     },
     "output_type": "display_data"
    }
   ],
   "source": [
    "## Plot city sizes over time. Colorbar should have fixed values to make it more clear.\n",
    "for i in range(50):\n",
    "    fig = plt.figure(dpi=150)\n",
    "    plt.imshow(city_evolution[\"City_sizes\"][i])\n",
    "    plt.title(\"City sizes at each step\")\n",
    "    plt.xlabel(\"x-coordinates of grid\")\n",
    "    plt.ylabel(\"y-coordinates of grid\")\n",
    "    plt.colorbar(label=\"No. of agents\")\n",
    "    plt.show()\n",
    "    time.sleep(0.1)\n",
    "    clear_output(wait=True)"
   ]
  },
  {
   "cell_type": "markdown",
   "metadata": {},
   "source": [
    "### Plot overall model utitlites at each step"
   ]
  },
  {
   "cell_type": "code",
   "execution_count": 41,
   "metadata": {},
   "outputs": [
    {
     "data": {
      "text/plain": [
       "<AxesSubplot:title={'center':'Model Utilities at each step'}, xlabel='steps', ylabel='utility'>"
      ]
     },
     "execution_count": 41,
     "metadata": {},
     "output_type": "execute_result"
    },
    {
     "data": {
      "image/png": "[encoded data removed]",
      "text/plain": [
       "<Figure size 900x600 with 1 Axes>"
      ]
     },
     "metadata": {
      "needs_background": "light"
     },
     "output_type": "display_data"
    }
   ],
   "source": [
    "fig = plt.figure(dpi=150)\n",
    "city_evolution[\"Utility\"].plot(xlabel=\"steps\", ylabel=\"utility\",title=\"Model Utilities at each step\")"
   ]
  },
  {
   "cell_type": "markdown",
   "metadata": {},
   "source": [
    "### Visualize city rank - size distribution of cities(cells) at each step"
   ]
  },
  {
   "cell_type": "code",
   "execution_count": 10,
   "metadata": {},
   "outputs": [
    {
     "data": {
      "text/html": [
       "<div>\n",
       "<style scoped>\n",
       "    .dataframe tbody tr th:only-of-type {\n",
       "        vertical-align: middle;\n",
       "    }\n",
       "\n",
       "    .dataframe tbody tr th {\n",
       "        vertical-align: top;\n",
       "    }\n",
       "\n",
       "    .dataframe thead th {\n",
       "        text-align: right;\n",
       "    }\n",
       "</style>\n",
       "<table border=\"1\" class=\"dataframe\">\n",
       "  <thead>\n",
       "    <tr style=\"text-align: right;\">\n",
       "      <th></th>\n",
       "      <th>City_sizes</th>\n",
       "      <th>Entropy</th>\n",
       "      <th>Ranks</th>\n",
       "      <th>Utility</th>\n",
       "    </tr>\n",
       "  </thead>\n",
       "  <tbody>\n",
       "    <tr>\n",
       "      <th>0</th>\n",
       "      <td>[[2.0, 6.0, 5.0, 8.0, 3.0, 3.0, 3.0, 2.0, 3.0,...</td>\n",
       "      <td>[[(0, 0), 0], [(0, 1), 0.6365141682948128], [(...</td>\n",
       "      <td>[((0, 3), 8), ((9, 17), 8), ((2, 5), 7), ((2, ...</td>\n",
       "      <td>6800.629615</td>\n",
       "    </tr>\n",
       "    <tr>\n",
       "      <th>1</th>\n",
       "      <td>[[3.0, 2.0, 2.0, 3.0, 3.0, 3.0, 4.0, 3.0, 2.0,...</td>\n",
       "      <td>[[(0, 0), 0.6365141682948128], [(0, 1), 0], [(...</td>\n",
       "      <td>[((0, 6), 4), ((2, 1), 4), ((2, 3), 4), ((2, 7...</td>\n",
       "      <td>7353.084777</td>\n",
       "    </tr>\n",
       "    <tr>\n",
       "      <th>2</th>\n",
       "      <td>[[3.0, 2.0, 4.0, 2.0, 2.0, 3.0, 2.0, 3.0, 3.0,...</td>\n",
       "      <td>[[(0, 0), 0.6365141682948128], [(0, 1), 0], [(...</td>\n",
       "      <td>[((0, 2), 4), ((0, 19), 4), ((1, 0), 4), ((1, ...</td>\n",
       "      <td>7360.740523</td>\n",
       "    </tr>\n",
       "    <tr>\n",
       "      <th>3</th>\n",
       "      <td>[[2.0, 2.0, 2.0, 4.0, 2.0, 3.0, 2.0, 2.0, 3.0,...</td>\n",
       "      <td>[[(0, 0), 0.6931471805599453], [(0, 1), 0], [(...</td>\n",
       "      <td>[((0, 3), 4), ((0, 14), 4), ((0, 16), 4), ((1,...</td>\n",
       "      <td>7356.604998</td>\n",
       "    </tr>\n",
       "    <tr>\n",
       "      <th>4</th>\n",
       "      <td>[[2.0, 2.0, 2.0, 2.0, 4.0, 3.0, 2.0, 3.0, 3.0,...</td>\n",
       "      <td>[[(0, 0), 0.6931471805599453], [(0, 1), 0], [(...</td>\n",
       "      <td>[((0, 4), 4), ((0, 12), 4), ((1, 2), 4), ((2, ...</td>\n",
       "      <td>7366.342866</td>\n",
       "    </tr>\n",
       "  </tbody>\n",
       "</table>\n",
       "</div>"
      ],
      "text/plain": [
       "                                          City_sizes  \\\n",
       "0  [[2.0, 6.0, 5.0, 8.0, 3.0, 3.0, 3.0, 2.0, 3.0,...   \n",
       "1  [[3.0, 2.0, 2.0, 3.0, 3.0, 3.0, 4.0, 3.0, 2.0,...   \n",
       "2  [[3.0, 2.0, 4.0, 2.0, 2.0, 3.0, 2.0, 3.0, 3.0,...   \n",
       "3  [[2.0, 2.0, 2.0, 4.0, 2.0, 3.0, 2.0, 2.0, 3.0,...   \n",
       "4  [[2.0, 2.0, 2.0, 2.0, 4.0, 3.0, 2.0, 3.0, 3.0,...   \n",
       "\n",
       "                                             Entropy  \\\n",
       "0  [[(0, 0), 0], [(0, 1), 0.6365141682948128], [(...   \n",
       "1  [[(0, 0), 0.6365141682948128], [(0, 1), 0], [(...   \n",
       "2  [[(0, 0), 0.6365141682948128], [(0, 1), 0], [(...   \n",
       "3  [[(0, 0), 0.6931471805599453], [(0, 1), 0], [(...   \n",
       "4  [[(0, 0), 0.6931471805599453], [(0, 1), 0], [(...   \n",
       "\n",
       "                                               Ranks      Utility  \n",
       "0  [((0, 3), 8), ((9, 17), 8), ((2, 5), 7), ((2, ...  6800.629615  \n",
       "1  [((0, 6), 4), ((2, 1), 4), ((2, 3), 4), ((2, 7...  7353.084777  \n",
       "2  [((0, 2), 4), ((0, 19), 4), ((1, 0), 4), ((1, ...  7360.740523  \n",
       "3  [((0, 3), 4), ((0, 14), 4), ((0, 16), 4), ((1,...  7356.604998  \n",
       "4  [((0, 4), 4), ((0, 12), 4), ((1, 2), 4), ((2, ...  7366.342866  "
      ]
     },
     "execution_count": 10,
     "metadata": {},
     "output_type": "execute_result"
    }
   ],
   "source": [
    "city_evolution.head()"
   ]
  },
  {
   "cell_type": "code",
   "execution_count": 42,
   "metadata": {},
   "outputs": [
    {
     "data": {
      "image/png": "[encoded data removed]",
      "text/plain": [
       "<Figure size 900x600 with 1 Axes>"
      ]
     },
     "metadata": {
      "needs_background": "light"
     },
     "output_type": "display_data"
    }
   ],
   "source": [
    "# consider adding regression line and overlay\n",
    "for i in range(50):\n",
    "    ranklist = city_evolution.iloc[i][\"Ranks\"]\n",
    "    n = len(ranklist)\n",
    "    ranks = range(1, n+1)                     # y-axis: log(the ranks)\n",
    "    pops = [pops for (coords, pops) in ranklist] # x-axis: log(the poplution size)\n",
    "    fig = plt.figure(dpi=150)\n",
    "    plt.loglog(pops, ranks, '.',label='city sizes') \n",
    "    plt.xlabel('log(population size)')\n",
    "    plt.ylabel('log(ranks)')\n",
    "    plt.legend(loc='lower left')\n",
    "    plt.show()\n",
    "    time.sleep(0.1)\n",
    "    clear_output(wait=True)"
   ]
  },
  {
   "cell_type": "markdown",
   "metadata": {},
   "source": [
    "### See entropy distribution of cities at the end of each Model run. "
   ]
  },
  {
   "cell_type": "code",
   "execution_count": 43,
   "metadata": {},
   "outputs": [
    {
     "ename": "KeyboardInterrupt",
     "evalue": "",
     "output_type": "error",
     "traceback": [
      "\u001b[1;31m---------------------------------------------------------------------------\u001b[0m",
      "\u001b[1;31mKeyboardInterrupt\u001b[0m                         Traceback (most recent call last)",
      "\u001b[1;32m<ipython-input-43-75ae43b70e78>\u001b[0m in \u001b[0;36m<module>\u001b[1;34m\u001b[0m\n\u001b[0;32m      3\u001b[0m     \u001b[0mmodel\u001b[0m \u001b[1;33m=\u001b[0m \u001b[0mcity_model\u001b[0m\u001b[1;33m(\u001b[0m\u001b[1;33m)\u001b[0m \u001b[1;31m# default params used\u001b[0m\u001b[1;33m\u001b[0m\u001b[1;33m\u001b[0m\u001b[0m\n\u001b[0;32m      4\u001b[0m     \u001b[1;32mfor\u001b[0m \u001b[0mj\u001b[0m \u001b[1;32min\u001b[0m \u001b[0mrange\u001b[0m\u001b[1;33m(\u001b[0m\u001b[1;36m30\u001b[0m\u001b[1;33m)\u001b[0m\u001b[1;33m:\u001b[0m \u001b[1;31m#run model for 30 steps\u001b[0m\u001b[1;33m\u001b[0m\u001b[1;33m\u001b[0m\u001b[0m\n\u001b[1;32m----> 5\u001b[1;33m         \u001b[0mmodel\u001b[0m\u001b[1;33m.\u001b[0m\u001b[0mstep\u001b[0m\u001b[1;33m(\u001b[0m\u001b[1;33m)\u001b[0m\u001b[1;33m\u001b[0m\u001b[1;33m\u001b[0m\u001b[0m\n\u001b[0m\u001b[0;32m      6\u001b[0m     \u001b[0mcity_evolution\u001b[0m \u001b[1;33m=\u001b[0m \u001b[0mmodel\u001b[0m\u001b[1;33m.\u001b[0m\u001b[0mdatacollector\u001b[0m\u001b[1;33m.\u001b[0m\u001b[0mget_model_vars_dataframe\u001b[0m\u001b[1;33m(\u001b[0m\u001b[1;33m)\u001b[0m\u001b[1;33m\u001b[0m\u001b[1;33m\u001b[0m\u001b[0m\n\u001b[0;32m      7\u001b[0m     \u001b[0meList\u001b[0m \u001b[1;33m=\u001b[0m \u001b[1;33m[\u001b[0m\u001b[1;33m]\u001b[0m\u001b[1;33m\u001b[0m\u001b[1;33m\u001b[0m\u001b[0m\n",
      "\u001b[1;32m<ipython-input-33-99465e208f47>\u001b[0m in \u001b[0;36mstep\u001b[1;34m(self)\u001b[0m\n\u001b[0;32m    159\u001b[0m         \u001b[1;34m\"\"\"Advance the model by one step\"\"\"\u001b[0m\u001b[1;33m\u001b[0m\u001b[1;33m\u001b[0m\u001b[0m\n\u001b[0;32m    160\u001b[0m         \u001b[0mself\u001b[0m\u001b[1;33m.\u001b[0m\u001b[0mdatacollector\u001b[0m\u001b[1;33m.\u001b[0m\u001b[0mcollect\u001b[0m\u001b[1;33m(\u001b[0m\u001b[0mself\u001b[0m\u001b[1;33m)\u001b[0m\u001b[1;33m\u001b[0m\u001b[1;33m\u001b[0m\u001b[0m\n\u001b[1;32m--> 161\u001b[1;33m         \u001b[0mself\u001b[0m\u001b[1;33m.\u001b[0m\u001b[0mschedule\u001b[0m\u001b[1;33m.\u001b[0m\u001b[0mstep\u001b[0m\u001b[1;33m(\u001b[0m\u001b[1;33m)\u001b[0m\u001b[1;33m\u001b[0m\u001b[1;33m\u001b[0m\u001b[0m\n\u001b[0m",
      "\u001b[1;32mc:\\users\\kamlesh\\.virtualenvs\\abm_assignments-9iw70rlj\\lib\\site-packages\\mesa\\time.py\u001b[0m in \u001b[0;36mstep\u001b[1;34m(self)\u001b[0m\n\u001b[0;32m    125\u001b[0m         \"\"\"\n\u001b[0;32m    126\u001b[0m         \u001b[1;32mfor\u001b[0m \u001b[0magent\u001b[0m \u001b[1;32min\u001b[0m \u001b[0mself\u001b[0m\u001b[1;33m.\u001b[0m\u001b[0magent_buffer\u001b[0m\u001b[1;33m(\u001b[0m\u001b[0mshuffled\u001b[0m\u001b[1;33m=\u001b[0m\u001b[1;32mTrue\u001b[0m\u001b[1;33m)\u001b[0m\u001b[1;33m:\u001b[0m\u001b[1;33m\u001b[0m\u001b[1;33m\u001b[0m\u001b[0m\n\u001b[1;32m--> 127\u001b[1;33m             \u001b[0magent\u001b[0m\u001b[1;33m.\u001b[0m\u001b[0mstep\u001b[0m\u001b[1;33m(\u001b[0m\u001b[1;33m)\u001b[0m\u001b[1;33m\u001b[0m\u001b[1;33m\u001b[0m\u001b[0m\n\u001b[0m\u001b[0;32m    128\u001b[0m         \u001b[0mself\u001b[0m\u001b[1;33m.\u001b[0m\u001b[0msteps\u001b[0m \u001b[1;33m+=\u001b[0m \u001b[1;36m1\u001b[0m\u001b[1;33m\u001b[0m\u001b[1;33m\u001b[0m\u001b[0m\n\u001b[0;32m    129\u001b[0m         \u001b[0mself\u001b[0m\u001b[1;33m.\u001b[0m\u001b[0mtime\u001b[0m \u001b[1;33m+=\u001b[0m \u001b[1;36m1\u001b[0m\u001b[1;33m\u001b[0m\u001b[1;33m\u001b[0m\u001b[0m\n",
      "\u001b[1;32m<ipython-input-33-99465e208f47>\u001b[0m in \u001b[0;36mstep\u001b[1;34m(self)\u001b[0m\n\u001b[0;32m    113\u001b[0m         \u001b[1;31m# for RandomActivation\u001b[0m\u001b[1;33m\u001b[0m\u001b[1;33m\u001b[0m\u001b[1;33m\u001b[0m\u001b[0m\n\u001b[0;32m    114\u001b[0m         \u001b[1;32mif\u001b[0m \u001b[0mself\u001b[0m\u001b[1;33m.\u001b[0m\u001b[0mmodel\u001b[0m\u001b[1;33m.\u001b[0m\u001b[0mact\u001b[0m \u001b[1;33m==\u001b[0m \u001b[1;36m0\u001b[0m\u001b[1;33m:\u001b[0m\u001b[1;33m\u001b[0m\u001b[1;33m\u001b[0m\u001b[0m\n\u001b[1;32m--> 115\u001b[1;33m             \u001b[0mself\u001b[0m\u001b[1;33m.\u001b[0m\u001b[0mmove\u001b[0m\u001b[1;33m(\u001b[0m\u001b[1;33m)\u001b[0m\u001b[1;33m\u001b[0m\u001b[1;33m\u001b[0m\u001b[0m\n\u001b[0m\u001b[0;32m    116\u001b[0m         \u001b[1;32melif\u001b[0m \u001b[0mself\u001b[0m\u001b[1;33m.\u001b[0m\u001b[0mmodel\u001b[0m\u001b[1;33m.\u001b[0m\u001b[0mact\u001b[0m \u001b[1;33m==\u001b[0m \u001b[1;36m1\u001b[0m\u001b[1;33m:\u001b[0m\u001b[1;33m\u001b[0m\u001b[1;33m\u001b[0m\u001b[0m\n\u001b[0;32m    117\u001b[0m             \u001b[0mself\u001b[0m\u001b[1;33m.\u001b[0m\u001b[0msteps\u001b[0m \u001b[1;33m+=\u001b[0m \u001b[1;36m1\u001b[0m\u001b[1;33m\u001b[0m\u001b[1;33m\u001b[0m\u001b[0m\n",
      "\u001b[1;32m<ipython-input-33-99465e208f47>\u001b[0m in \u001b[0;36mmove\u001b[1;34m(self)\u001b[0m\n\u001b[0;32m     99\u001b[0m             \u001b[0mlistcoords\u001b[0m \u001b[1;33m=\u001b[0m \u001b[0mlist\u001b[0m\u001b[1;33m(\u001b[0m\u001b[1;33m)\u001b[0m\u001b[1;33m\u001b[0m\u001b[1;33m\u001b[0m\u001b[0m\n\u001b[0;32m    100\u001b[0m             \u001b[1;31m# Iterate over all the items in dictionary to find keys with max value\u001b[0m\u001b[1;33m\u001b[0m\u001b[1;33m\u001b[0m\u001b[1;33m\u001b[0m\u001b[0m\n\u001b[1;32m--> 101\u001b[1;33m             \u001b[1;32mfor\u001b[0m \u001b[0mcoord\u001b[0m\u001b[1;33m,\u001b[0m \u001b[0mutil\u001b[0m \u001b[1;32min\u001b[0m \u001b[0mcell_dict\u001b[0m\u001b[1;33m.\u001b[0m\u001b[0mitems\u001b[0m\u001b[1;33m(\u001b[0m\u001b[1;33m)\u001b[0m\u001b[1;33m:\u001b[0m\u001b[1;33m\u001b[0m\u001b[1;33m\u001b[0m\u001b[0m\n\u001b[0m\u001b[0;32m    102\u001b[0m                 \u001b[1;32mif\u001b[0m \u001b[0mutil\u001b[0m \u001b[1;33m==\u001b[0m \u001b[0mMaxValue\u001b[0m\u001b[1;33m[\u001b[0m\u001b[1;36m1\u001b[0m\u001b[1;33m]\u001b[0m\u001b[1;33m:\u001b[0m\u001b[1;33m\u001b[0m\u001b[1;33m\u001b[0m\u001b[0m\n\u001b[0;32m    103\u001b[0m                     \u001b[0mlistcoords\u001b[0m\u001b[1;33m.\u001b[0m\u001b[0mappend\u001b[0m\u001b[1;33m(\u001b[0m\u001b[0mcoord\u001b[0m\u001b[1;33m)\u001b[0m\u001b[1;33m\u001b[0m\u001b[1;33m\u001b[0m\u001b[0m\n",
      "\u001b[1;31mKeyboardInterrupt\u001b[0m: "
     ]
    },
    {
     "data": {
      "text/plain": [
       "<Figure size 900x600 with 0 Axes>"
      ]
     },
     "metadata": {},
     "output_type": "display_data"
    }
   ],
   "source": [
    "for i in range(5):  \n",
    "    model = city_model() # default params used\n",
    "    for j in range(30): #run model for 30 steps\n",
    "        model.step()\n",
    "    city_evolution = model.datacollector.get_model_vars_dataframe()    \n",
    "    eList = []\n",
    "    for j in city_evolution.iloc[29][\"Entropy\"]:\n",
    "        eList.append(j[1])   \n",
    "    intv95 = st.norm.interval(alpha=0.95, loc=np.mean(eList), scale=st.sem(eList))\n",
    "    # Plot the histogram.\n",
    "    fig = plt.figure(dpi=150)\n",
    "    plt.hist(eList, bins= \"auto\", density=True,color='firebrick',alpha=0.6, \n",
    "             label=\"Distribution of entropies at end of model run {}\".format(i+1))\n",
    "    plt.axvline(x=np.mean(eList), color='k', linestyle='dashdot', label=\"Mean\")\n",
    "    plt.axvline(x=intv95[0],color='yellow',linestyle='--',linewidth=0.8,label='Lower bound of 95% Confidence Interval')\n",
    "    plt.axvline(x=intv95[1],color='blue',linestyle='--',linewidth=0.8,label='Upper bound of 95% Confidence Interval')\n",
    "    plt.xlabel('Entropy of cities')\n",
    "    plt.ylabel('Frequency of occurence')\n",
    "    plt.title(\"Distribution of cell entropies at the end of each Model instantiation\",pad=20)\n",
    "    plt.legend(loc='best', shadow=True, prop={'size': 7}, facecolor=\"silver\")\n",
    "    plt.show()\n",
    "    time.sleep(0.1)\n",
    "    clear_output(wait=True)"
   ]
  },
  {
   "cell_type": "markdown",
   "metadata": {},
   "source": [
    "### Server"
   ]
  },
  {
   "cell_type": "code",
   "execution_count": 44,
   "metadata": {},
   "outputs": [
    {
     "name": "stdout",
     "output_type": "stream",
     "text": [
      "Interface starting at http://127.0.0.1:8521\n"
     ]
    },
    {
     "ename": "OSError",
     "evalue": "[WinError 10048] Only one usage of each socket address (protocol/network address/port) is normally permitted",
     "output_type": "error",
     "traceback": [
      "\u001b[1;31m---------------------------------------------------------------------------\u001b[0m",
      "\u001b[1;31mOSError\u001b[0m                                   Traceback (most recent call last)",
      "\u001b[1;32m<ipython-input-44-0052ca3f20c7>\u001b[0m in \u001b[0;36m<module>\u001b[1;34m\u001b[0m\n\u001b[0;32m     23\u001b[0m \u001b[1;33m\u001b[0m\u001b[0m\n\u001b[0;32m     24\u001b[0m \u001b[0mserver\u001b[0m \u001b[1;33m=\u001b[0m \u001b[0mModularServer\u001b[0m\u001b[1;33m(\u001b[0m\u001b[0mcity_model\u001b[0m\u001b[1;33m,\u001b[0m \u001b[1;33m[\u001b[0m\u001b[0mgrid\u001b[0m\u001b[1;33m,\u001b[0m \u001b[0mchart\u001b[0m\u001b[1;33m]\u001b[0m\u001b[1;33m,\u001b[0m \u001b[1;34m\"City Model\"\u001b[0m\u001b[1;33m,\u001b[0m \u001b[0mmodel_params\u001b[0m\u001b[1;33m)\u001b[0m\u001b[1;33m\u001b[0m\u001b[1;33m\u001b[0m\u001b[0m\n\u001b[1;32m---> 25\u001b[1;33m \u001b[0mserver\u001b[0m\u001b[1;33m.\u001b[0m\u001b[0mlaunch\u001b[0m\u001b[1;33m(\u001b[0m\u001b[1;33m)\u001b[0m\u001b[1;33m\u001b[0m\u001b[1;33m\u001b[0m\u001b[0m\n\u001b[0m",
      "\u001b[1;32mc:\\users\\kamlesh\\.virtualenvs\\abm_assignments-9iw70rlj\\lib\\site-packages\\mesa\\visualization\\ModularVisualization.py\u001b[0m in \u001b[0;36mlaunch\u001b[1;34m(self, port, open_browser)\u001b[0m\n\u001b[0;32m    331\u001b[0m         \u001b[0murl\u001b[0m \u001b[1;33m=\u001b[0m \u001b[1;34m\"http://127.0.0.1:{PORT}\"\u001b[0m\u001b[1;33m.\u001b[0m\u001b[0mformat\u001b[0m\u001b[1;33m(\u001b[0m\u001b[0mPORT\u001b[0m\u001b[1;33m=\u001b[0m\u001b[0mself\u001b[0m\u001b[1;33m.\u001b[0m\u001b[0mport\u001b[0m\u001b[1;33m)\u001b[0m\u001b[1;33m\u001b[0m\u001b[1;33m\u001b[0m\u001b[0m\n\u001b[0;32m    332\u001b[0m         \u001b[0mprint\u001b[0m\u001b[1;33m(\u001b[0m\u001b[1;34m\"Interface starting at {url}\"\u001b[0m\u001b[1;33m.\u001b[0m\u001b[0mformat\u001b[0m\u001b[1;33m(\u001b[0m\u001b[0murl\u001b[0m\u001b[1;33m=\u001b[0m\u001b[0murl\u001b[0m\u001b[1;33m)\u001b[0m\u001b[1;33m)\u001b[0m\u001b[1;33m\u001b[0m\u001b[1;33m\u001b[0m\u001b[0m\n\u001b[1;32m--> 333\u001b[1;33m         \u001b[0mself\u001b[0m\u001b[1;33m.\u001b[0m\u001b[0mlisten\u001b[0m\u001b[1;33m(\u001b[0m\u001b[0mself\u001b[0m\u001b[1;33m.\u001b[0m\u001b[0mport\u001b[0m\u001b[1;33m)\u001b[0m\u001b[1;33m\u001b[0m\u001b[1;33m\u001b[0m\u001b[0m\n\u001b[0m\u001b[0;32m    334\u001b[0m         \u001b[1;32mif\u001b[0m \u001b[0mopen_browser\u001b[0m\u001b[1;33m:\u001b[0m\u001b[1;33m\u001b[0m\u001b[1;33m\u001b[0m\u001b[0m\n\u001b[0;32m    335\u001b[0m             \u001b[0mwebbrowser\u001b[0m\u001b[1;33m.\u001b[0m\u001b[0mopen\u001b[0m\u001b[1;33m(\u001b[0m\u001b[0murl\u001b[0m\u001b[1;33m)\u001b[0m\u001b[1;33m\u001b[0m\u001b[1;33m\u001b[0m\u001b[0m\n",
      "\u001b[1;32mc:\\users\\kamlesh\\.virtualenvs\\abm_assignments-9iw70rlj\\lib\\site-packages\\tornado\\web.py\u001b[0m in \u001b[0;36mlisten\u001b[1;34m(self, port, address, **kwargs)\u001b[0m\n\u001b[0;32m   2107\u001b[0m         \"\"\"\n\u001b[0;32m   2108\u001b[0m         \u001b[0mserver\u001b[0m \u001b[1;33m=\u001b[0m \u001b[0mHTTPServer\u001b[0m\u001b[1;33m(\u001b[0m\u001b[0mself\u001b[0m\u001b[1;33m,\u001b[0m \u001b[1;33m**\u001b[0m\u001b[0mkwargs\u001b[0m\u001b[1;33m)\u001b[0m\u001b[1;33m\u001b[0m\u001b[1;33m\u001b[0m\u001b[0m\n\u001b[1;32m-> 2109\u001b[1;33m         \u001b[0mserver\u001b[0m\u001b[1;33m.\u001b[0m\u001b[0mlisten\u001b[0m\u001b[1;33m(\u001b[0m\u001b[0mport\u001b[0m\u001b[1;33m,\u001b[0m \u001b[0maddress\u001b[0m\u001b[1;33m)\u001b[0m\u001b[1;33m\u001b[0m\u001b[1;33m\u001b[0m\u001b[0m\n\u001b[0m\u001b[0;32m   2110\u001b[0m         \u001b[1;32mreturn\u001b[0m \u001b[0mserver\u001b[0m\u001b[1;33m\u001b[0m\u001b[1;33m\u001b[0m\u001b[0m\n\u001b[0;32m   2111\u001b[0m \u001b[1;33m\u001b[0m\u001b[0m\n",
      "\u001b[1;32mc:\\users\\kamlesh\\.virtualenvs\\abm_assignments-9iw70rlj\\lib\\site-packages\\tornado\\tcpserver.py\u001b[0m in \u001b[0;36mlisten\u001b[1;34m(self, port, address)\u001b[0m\n\u001b[0;32m    149\u001b[0m         \u001b[0mthe\u001b[0m\u001b[0;31m \u001b[0m\u001b[0;31m`\u001b[0m\u001b[1;33m.\u001b[0m\u001b[0mIOLoop\u001b[0m\u001b[0;31m`\u001b[0m\u001b[1;33m.\u001b[0m\u001b[1;33m\u001b[0m\u001b[1;33m\u001b[0m\u001b[0m\n\u001b[0;32m    150\u001b[0m         \"\"\"\n\u001b[1;32m--> 151\u001b[1;33m         \u001b[0msockets\u001b[0m \u001b[1;33m=\u001b[0m \u001b[0mbind_sockets\u001b[0m\u001b[1;33m(\u001b[0m\u001b[0mport\u001b[0m\u001b[1;33m,\u001b[0m \u001b[0maddress\u001b[0m\u001b[1;33m=\u001b[0m\u001b[0maddress\u001b[0m\u001b[1;33m)\u001b[0m\u001b[1;33m\u001b[0m\u001b[1;33m\u001b[0m\u001b[0m\n\u001b[0m\u001b[0;32m    152\u001b[0m         \u001b[0mself\u001b[0m\u001b[1;33m.\u001b[0m\u001b[0madd_sockets\u001b[0m\u001b[1;33m(\u001b[0m\u001b[0msockets\u001b[0m\u001b[1;33m)\u001b[0m\u001b[1;33m\u001b[0m\u001b[1;33m\u001b[0m\u001b[0m\n\u001b[0;32m    153\u001b[0m \u001b[1;33m\u001b[0m\u001b[0m\n",
      "\u001b[1;32mc:\\users\\kamlesh\\.virtualenvs\\abm_assignments-9iw70rlj\\lib\\site-packages\\tornado\\netutil.py\u001b[0m in \u001b[0;36mbind_sockets\u001b[1;34m(port, address, family, backlog, flags, reuse_port)\u001b[0m\n\u001b[0;32m    159\u001b[0m         \u001b[0msock\u001b[0m\u001b[1;33m.\u001b[0m\u001b[0msetblocking\u001b[0m\u001b[1;33m(\u001b[0m\u001b[1;32mFalse\u001b[0m\u001b[1;33m)\u001b[0m\u001b[1;33m\u001b[0m\u001b[1;33m\u001b[0m\u001b[0m\n\u001b[0;32m    160\u001b[0m         \u001b[1;32mtry\u001b[0m\u001b[1;33m:\u001b[0m\u001b[1;33m\u001b[0m\u001b[1;33m\u001b[0m\u001b[0m\n\u001b[1;32m--> 161\u001b[1;33m             \u001b[0msock\u001b[0m\u001b[1;33m.\u001b[0m\u001b[0mbind\u001b[0m\u001b[1;33m(\u001b[0m\u001b[0msockaddr\u001b[0m\u001b[1;33m)\u001b[0m\u001b[1;33m\u001b[0m\u001b[1;33m\u001b[0m\u001b[0m\n\u001b[0m\u001b[0;32m    162\u001b[0m         \u001b[1;32mexcept\u001b[0m \u001b[0mOSError\u001b[0m \u001b[1;32mas\u001b[0m \u001b[0me\u001b[0m\u001b[1;33m:\u001b[0m\u001b[1;33m\u001b[0m\u001b[1;33m\u001b[0m\u001b[0m\n\u001b[0;32m    163\u001b[0m             if (\n",
      "\u001b[1;31mOSError\u001b[0m: [WinError 10048] Only one usage of each socket address (protocol/network address/port) is normally permitted"
     ]
    }
   ],
   "source": [
    "def city_draw(agent):\n",
    "    \"\"\"\n",
    "    Portrayal Method for canvas\n",
    "    \"\"\"\n",
    "    if agent.type == 'L':  # red for L\n",
    "        portrayal = {\"Shape\": \"rect\",\"w\": 0.2,\"h\":0.1, \"Color\": \"red\",\"Filled\": \"false\",\"Layer\":0 }\n",
    "    else:                  # green for H\n",
    "        portrayal = {\"Shape\": \"circle\",\"r\": 0.5, \"Color\": \"green\",\"Filled\": \"true\",\"Layer\":1 }\n",
    "            \n",
    "    return portrayal\n",
    "\n",
    "grid = CanvasGrid(city_draw, 20, 20, 500, 500)\n",
    "chart = ChartModule([{\"Label\": \"Utility\",\n",
    "                      \"Color\": \"Black\"}],\n",
    "                    data_collector_name='datacollector')\n",
    "model_params = {\n",
    "    \"height\": 20,\n",
    "    \"width\": 20,\n",
    "    \"N\": UserSettableParameter(\"slider\", \"Number of Agents\", 1000, 500, 2500, 500),\n",
    "    \"neg_coff\": UserSettableParameter(\"slider\", \"Negative coefficient(c)\", 0.1, 0.05, 0.25, 0.05),\n",
    "    \"pos_coff\": UserSettableParameter(\"slider\", \"Positive Coefficeint(k)\", 1, 0.5, 2, 0.25),\n",
    "    \"activation\": UserSettableParameter(\"slider\", \"0 for Random, 1 for Simulatneous\", 0, 0, 1, 1)}\n",
    "\n",
    "server = ModularServer(city_model, [grid, chart], \"City Model\", model_params)\n",
    "server.launch()"
   ]
  },
  {
   "cell_type": "markdown",
   "metadata": {},
   "source": [
    "### Using BatchRunner , and other tests incomplete"
   ]
  },
  {
   "cell_type": "code",
   "execution_count": null,
   "metadata": {},
   "outputs": [],
   "source": [
    "fixed_params = {\"N\": 2000,\"width\": 20,\n",
    "               \"height\": 20, \"neg_coff\": 0.1, \"pos_coff\": 1, \"activation\": 0}\n",
    "\n",
    "batch_run = BatchRunner(city_model,\n",
    "                        fixed_params,\n",
    "                        iterations = 10,\n",
    "                        max_steps = 50,\n",
    "                        model_reporters={\"Entropy\": model_entropy, \"Ranks\": city_ranks})\n",
    "batch_run.run_all()"
   ]
  },
  {
   "cell_type": "code",
   "execution_count": null,
   "metadata": {},
   "outputs": [],
   "source": [
    "run_data = batch_run.get_model_vars_dataframe()\n",
    "print(run_data.head())\n",
    "data_collector_agents = batch_run.get_collector_agents()\n",
    "\n",
    "data_collector_agents"
   ]
  },
  {
   "cell_type": "code",
   "execution_count": null,
   "metadata": {},
   "outputs": [],
   "source": [
    "data_collector_model = batch_run.get_collector_model()\n",
    "\n",
    "data_collector_model"
   ]
  },
  {
   "cell_type": "code",
   "execution_count": null,
   "metadata": {},
   "outputs": [],
   "source": [
    "x = [0,5,9,10,15]\n",
    "y = [0,1,2,3,4]\n",
    "plt.plot(x,y)\n",
    "plt.xticks(np.arange(min(x), max(x)+1, 4.0))\n",
    "plt.show()"
   ]
  },
  {
   "cell_type": "code",
   "execution_count": null,
   "metadata": {},
   "outputs": [],
   "source": [
    "#city_evolution.astype(float)\n",
    "#city_evolution.info()\n",
    "\n",
    "# city_evolution.loc[0]\n",
    "\n",
    "# city_evolution.plot.density(ind = city_evolution.loc[0])\n",
    "E_list = city_evolution[\"Entropy\"].tolist()\n",
    "\n",
    "\n",
    "plotd = collections.defaultdict(list)\n",
    "for i in E_list:\n",
    "    for j in i:\n",
    "        plotd[\"{}\".format(j[0])].append(j[1])\n",
    "        \n",
    "names = list(plotd.keys())\n",
    "y = list(plotd.values())\n",
    "\n",
    "x = [i for i in range(1,len(names)+1)]\n",
    "fig, ax = plt.subplots(dpi=120)\n",
    "ax.set_xticks(x)\n",
    "ax.set_xticklabels(labels = names, rotation = (90), fontsize = 7, va='bottom', ha='left')\n",
    "ax.tick_params(axis='x', which='major', pad=20)\n",
    "\n",
    "#ax.violinplot(y,widths=0.8,showmeans=True)\n",
    "ax.boxplot(y,showfliers=False)\n",
    "#ax.get_xaxis().set_tick_params(direction='out')\n",
    "#ax.xaxis.set_ticks_position('bottom')\n",
    "#ax.set_xlim(0.25, 3.75)\n",
    "\n",
    "\n",
    "\n",
    "ax.grid()\n",
    "'''\n",
    "for xe, ye in zip(x, y):\n",
    "    ax.scatter([xe] * len(ye), ye,s=5)'''"
   ]
  },
  {
   "cell_type": "code",
   "execution_count": null,
   "metadata": {},
   "outputs": [],
   "source": [
    "Row_list =[] \n",
    "  \n",
    "# Iterate over each row \n",
    "for rows in city_evolution.itertuples(): \n",
    "    # Create list for the current row \n",
    "    my_list =[rows.City_sizes] \n",
    "      \n",
    "    # append the list to the final list \n",
    "    Row_list.append(my_list) \n",
    "  \n",
    "# Print the list \n",
    "type((Row_list[0]))\n",
    "#fig, ax = plt.subplots(dpi=200)\n",
    "\n",
    "#ax.violinplot(Row_list[0],showmeans=True)"
   ]
  },
  {
   "cell_type": "code",
   "execution_count": null,
   "metadata": {},
   "outputs": [],
   "source": [
    "## Plot city sizes over time. Colorbar should have fixed values to make it more clear.\n",
    "#plt.figure(dpi=200)\n",
    "for i in range(50):\n",
    "    plt.imshow(city_evolution[\"City_sizes\"][i])\n",
    "    plt.colorbar()\n",
    "    plt.show()\n",
    "    time.sleep(0.2)\n",
    "    clear_output(wait=True)"
   ]
  },
  {
   "cell_type": "code",
   "execution_count": null,
   "metadata": {},
   "outputs": [],
   "source": []
  }
 ],
 "metadata": {
  "kernelspec": {
   "display_name": "Python 3",
   "language": "python",
   "name": "python3"
  },
  "language_info": {
   "codemirror_mode": {
    "name": "ipython",
    "version": 3
   },
   "file_extension": ".py",
   "mimetype": "text/x-python",
   "name": "python",
   "nbconvert_exporter": "python",
   "pygments_lexer": "ipython3",
   "version": "3.8.5"
  }
 },
 "nbformat": 4,
 "nbformat_minor": 4
}
